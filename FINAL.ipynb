{
 "cells": [
  {
   "cell_type": "markdown",
   "metadata": {},
   "source": [
    "# UBS_lauzhack - Entity resolution model"
   ]
  },
  {
   "cell_type": "markdown",
   "metadata": {},
   "source": [
    "## 1. Pre-processing"
   ]
  },
  {
   "cell_type": "markdown",
   "metadata": {},
   "source": [
    "Observed the given dataset and apply the proper transformations to the data in order to better anlyse it and create the model."
   ]
  },
  {
   "cell_type": "code",
   "execution_count": 95,
   "metadata": {},
   "outputs": [],
   "source": [
    "#%matplotlib notebook\n",
    "import numpy as np\n",
    "import matplotlib.pyplot as plt\n",
    "import seaborn as sns\n",
    "import pandas as pd\n",
    "from collections import Counter\n",
    "from IPython.core.interactiveshell import InteractiveShell\n",
    "import warnings\n",
    "\n",
    "\n",
    "InteractiveShell.ast_node_interactivity = \"all\"\n",
    "#pd.set_option('precision', 3)\n",
    "display.precision = 3\n",
    "sns.set()\n",
    "warnings.filterwarnings('ignore')\n",
    "\n",
    "# extra imports\n",
    "from pandas import read_csv\n",
    "from sklearn.neighbors import KNeighborsClassifier\n",
    "from sklearn.neighbors import LocalOutlierFactor\n",
    "from sklearn import preprocessing\n",
    "#from statsmodels.genmod.generalized_linear_model import GLM\n",
    "from pandas.plotting import scatter_matrix\n",
    "from scipy.stats import boxcox\n",
    "\n"
   ]
  },
  {
   "cell_type": "code",
   "execution_count": 96,
   "metadata": {},
   "outputs": [],
   "source": [
    "# Read the CSV files from the 'data' subfolder\n",
    "#account_booking_df = pd.read_csv('data/account_booking_train.csv')\n",
    "#external_parties_df = pd.read_csv('data/external_parties_train.csv')\n",
    "\n",
    "account_booking_df = pd.read_csv('../account_booking_test.csv')\n",
    "external_parties_df = pd.read_csv('../external_parties_test.csv')"
   ]
  },
  {
   "cell_type": "code",
   "execution_count": 97,
   "metadata": {},
   "outputs": [],
   "source": [
    "# Combine the tables with merge using \n",
    "combined_data = pd.merge(account_booking_df, external_parties_df, on='transaction_reference_id', how='inner')"
   ]
  },
  {
   "cell_type": "code",
   "execution_count": 98,
   "metadata": {},
   "outputs": [
    {
     "data": {
      "text/plain": [
       "transaction_reference_id              0\n",
       "debit_credit_indicator                0\n",
       "account_id                            0\n",
       "transaction_amount                    0\n",
       "transaction_currency                  0\n",
       "transaction_date                      0\n",
       "party_role                            0\n",
       "party_info_unstructured               0\n",
       "parsed_name                           0\n",
       "parsed_address_street_name       105595\n",
       "parsed_address_street_number     407501\n",
       "parsed_address_unit             1481672\n",
       "parsed_address_postal_code       461156\n",
       "parsed_address_city              152702\n",
       "parsed_address_state            1222710\n",
       "parsed_address_country           832475\n",
       "party_iban                       444527\n",
       "party_phone                      666700\n",
       "dtype: int64"
      ]
     },
     "execution_count": 98,
     "metadata": {},
     "output_type": "execute_result"
    }
   ],
   "source": [
    "#Null count of each variables to know which ones are more relevant to analyze\n",
    "combined_data.isnull().sum()"
   ]
  },
  {
   "cell_type": "code",
   "execution_count": 99,
   "metadata": {},
   "outputs": [],
   "source": [
    "# Drop the columns that have more than 50% of missing values and irrelevant information\n",
    "\n",
    "## External parties data\n",
    "\n",
    "irrelevant_cols_external = ['party_info_unstructured', 'parsed_address_unit', 'parsed_address_state', 'parsed_address_country']\n",
    "external_parties_df.drop(columns=irrelevant_cols_external, inplace=True, errors='ignore')\n",
    "\n",
    "## Accounts booking data\n",
    "duplicate_ids = account_booking_df[account_booking_df.duplicated(subset='transaction_reference_id', keep=False)]\n",
    "account_booking_df = account_booking_df[~account_booking_df['transaction_reference_id'].isin(duplicate_ids['transaction_reference_id'])]\n",
    "\n",
    "irrelevant_cols_booking = ['debit_credit_indicator']\n",
    "account_booking_df.drop(columns=irrelevant_cols_booking, inplace=True, errors='ignore')\n",
    "\n",
    "# Merge the two dataframes\n",
    "\n",
    "merged_df = pd.merge(external_parties_df, account_booking_df, on='transaction_reference_id', how='inner')\n",
    "\n",
    "merged_df.to_csv('merged_data_cleaned.csv', index=False)"
   ]
  },
  {
   "cell_type": "code",
   "execution_count": 100,
   "metadata": {},
   "outputs": [],
   "source": [
    "\n",
    "honorifics = ['Mr. ', 'Ms. ', 'Mrs. ', 'Miss ', 'Dr. ', 'Prof. ', 'Rev. ', 'Hon. ', 'mr. ', 'ms. ', 'mrs. ', 'miss ', 'dr. ', 'prof. ', 'rev. ', 'hon. ']\n",
    "for honorific in honorifics:\n",
    "    merged_df['parsed_name'] = merged_df['parsed_name'].str.replace(honorific, '')\n",
    "\n",
    "\n",
    "def delete_duplicates(name):\n",
    "    def remove_duplicates(text):\n",
    "        words = text.split()\n",
    "        seen = set()\n",
    "        result = []\n",
    "        for word in words:\n",
    "            if word.lower() not in seen:\n",
    "                seen.add(word.lower())\n",
    "                result.append(word)\n",
    "        return ' '.join(result)\n",
    "    \n",
    "    name['parsed_name'] = name['parsed_name'].apply(remove_duplicates)\n",
    "    return name\n",
    "\n",
    "merged_df = delete_duplicates(merged_df)\n"
   ]
  },
  {
   "cell_type": "code",
   "execution_count": 101,
   "metadata": {},
   "outputs": [
    {
     "name": "stdout",
     "output_type": "stream",
     "text": [
      "0                  0RS HMFR\n",
      "1                    HL TTL\n",
      "2               MKFRLN TKNK\n",
      "3                    JM KPR\n",
      "4    FRNNTSS FRST ANT KNSLS\n",
      "Name: parsed_name, dtype: object\n"
     ]
    }
   ],
   "source": [
    "from metaphone import doublemetaphone\n",
    "\n",
    "def apply_metaphone(value):\n",
    "    if isinstance(value, list) or isinstance(value, np.ndarray):  \n",
    "        return np.nan  \n",
    "    if pd.isna(value) or not isinstance(value, str):  \n",
    "        return np.nan\n",
    "    return doublemetaphone(value.strip().lower())[0] \n",
    "\n",
    "def split_and_metaphone(full_name):\n",
    "    \"\"\"\n",
    "    Divide un nombre completo en sus partes (palabras), aplica Metaphone a cada parte,\n",
    "    y las junta nuevamente con espacios.\n",
    "    \"\"\"\n",
    "    if pd.isna(full_name) or not isinstance(full_name, str):  \n",
    "        return np.nan\n",
    "\n",
    "    parts = full_name.strip().split()\n",
    "\n",
    "    return ' '.join(apply_metaphone(part) for part in parts)\n",
    "\n",
    "merged_df['parsed_name'] = merged_df['parsed_name'].apply(split_and_metaphone)\n",
    "\n",
    "print(merged_df['parsed_name'].head())\n"
   ]
  },
  {
   "cell_type": "code",
   "execution_count": 102,
   "metadata": {},
   "outputs": [
    {
     "name": "stdout",
     "output_type": "stream",
     "text": [
      "0             JN PRKS\n",
      "1    TK LS ALNTS TNLS\n",
      "2            JSF ANLT\n",
      "3             ASTN LT\n",
      "4      TMS KRSNT APTT\n",
      "Name: parsed_address_street_name, dtype: object\n"
     ]
    }
   ],
   "source": [
    "merged_df['parsed_address_street_name'] = merged_df['parsed_address_street_name'].apply(split_and_metaphone)\n",
    "\n",
    "print(merged_df['parsed_address_street_name'].head())\n",
    "\n",
    "merged_df.to_csv('merged_data_cleaned.csv', index=False)"
   ]
  },
  {
   "cell_type": "code",
   "execution_count": 103,
   "metadata": {},
   "outputs": [
    {
     "name": "stdout",
     "output_type": "stream",
     "text": [
      "Index(['transaction_reference_id', 'party_role', 'parsed_name',\n",
      "       'parsed_address_street_name', 'parsed_address_postal_code',\n",
      "       'parsed_address_city', 'account_id', 'transaction_amount',\n",
      "       'transaction_month', 'transaction_day_of_week', 'transaction_category'],\n",
      "      dtype='object')\n"
     ]
    }
   ],
   "source": [
    "def categorize_transaction_amount(amount):\n",
    "    if amount < 1000:\n",
    "        return 1\n",
    "    elif amount < 5000:\n",
    "        return 2\n",
    "    else:\n",
    "        return 3\n",
    "\n",
    "merged_df['transaction_date'] = pd.to_datetime(merged_df['transaction_date'], errors='coerce')\n",
    "\n",
    "# Extract month and day of the week from transaction_date\n",
    "merged_df['transaction_month'] = merged_df['transaction_date'].dt.month\n",
    "merged_df['transaction_day_of_week'] = merged_df['transaction_date'].dt.dayofweek\n",
    "merged_df['transaction_category'] = merged_df['transaction_amount'].apply(categorize_transaction_amount)\n",
    "\n",
    "# Normalize the transaction_amount, transaction_month, and transaction_day_of_week columns to a range of 0 to 1\n",
    "scaler = preprocessing.MinMaxScaler()\n",
    "\n",
    "merged_df[['transaction_category', 'transaction_month', 'transaction_day_of_week']] = scaler.fit_transform(\n",
    "    merged_df[['transaction_category', 'transaction_month', 'transaction_day_of_week']])\n",
    "\n",
    "# Drop the original transaction_date column\n",
    "columns_to_drop = ['transaction_date', 'party_info_unstructured', 'parsed_address_unit', 'parsed_address_state', 'parsed_address_country', 'parsed_address_street_number', 'party_iban', 'party_phone', 'debit_credit_indicator', 'transaction_currency',]\n",
    "merged_df.drop(columns=[col for col in columns_to_drop if col in merged_df.columns], inplace=True)\n",
    "\n",
    "print(merged_df.columns)"
   ]
  },
  {
   "cell_type": "code",
   "execution_count": 104,
   "metadata": {},
   "outputs": [],
   "source": [
    "def create_block_key(value, prefix_length=5):\n",
    "    if pd.isna(value):  # Maneja valores faltantes\n",
    "        return 'MISSING'\n",
    "    return value[:prefix_length].lower()\n",
    "\n",
    "# Aplica el bloqueo en la columna deseada\n",
    "merged_df['block'] = merged_df['parsed_name'].apply(create_block_key, prefix_length=3)\n",
    "\n",
    "def create_combined_block(row):\n",
    "    # Combina prefijos de varias columnas\n",
    "    name_key = create_block_key(row['parsed_name'], prefix_length=3)\n",
    "    address_key = create_block_key(row['parsed_address_street_name'], prefix_length=3)\n",
    "    return f\"{name_key}_{address_key}\"\n",
    "\n",
    "merged_df['block'] = merged_df.apply(create_combined_block, axis=1)\n",
    "blocks = merged_df.groupby('block')"
   ]
  },
  {
   "cell_type": "code",
   "execution_count": null,
   "metadata": {},
   "outputs": [
    {
     "name": "stdout",
     "output_type": "stream",
     "text": [
      "Processing block:   a_ast\n",
      "Processing block:   a_mts\n",
      "Processing block:  0r_ kr\n",
      "Processing block:  0r_krs\n",
      "Processing block:  0r_lr \n",
      "Processing block:  a _MISSING\n",
      "Processing block:  a _a a\n",
      "Processing block:  a _jrm\n",
      "Processing block:  a _krs\n",
      "Processing block:  a _ls \n",
      "Processing block:  a _prt\n",
      "Processing block:  a _rnt\n",
      "Processing block:  a _sm0\n",
      "Processing block:  a _tkr\n",
      "Processing block:  a0_kkr\n",
      "Processing block:  a0_mnr\n",
      "Processing block:  a_frm\n",
      "Processing block:  a_frn\n"
     ]
    },
    {
     "ename": "ValueError",
     "evalue": "empty vocabulary; perhaps the documents only contain stop words",
     "output_type": "error",
     "traceback": [
      "\u001b[1;31m---------------------------------------------------------------------------\u001b[0m",
      "\u001b[1;31mValueError\u001b[0m                                Traceback (most recent call last)",
      "Cell \u001b[1;32mIn[105], line 54\u001b[0m\n\u001b[0;32m     51\u001b[0m     \u001b[38;5;28;01mcontinue\u001b[39;00m\n\u001b[0;32m     53\u001b[0m \u001b[38;5;66;03m# Similaridad para 'parsed_name' y 'parsed_address_street_name'\u001b[39;00m\n\u001b[1;32m---> 54\u001b[0m name_and_address_similarity \u001b[38;5;241m=\u001b[39m \u001b[43mcalculate_similarity\u001b[49m\u001b[43m(\u001b[49m\u001b[43mblock_data\u001b[49m\u001b[43m)\u001b[49m\n\u001b[0;32m     56\u001b[0m \u001b[38;5;66;03m# Asegúrate de que los valores de la matriz de similitud estén en el rango [0, 1]\u001b[39;00m\n\u001b[0;32m     57\u001b[0m name_and_address_similarity \u001b[38;5;241m=\u001b[39m np\u001b[38;5;241m.\u001b[39mclip(name_and_address_similarity, \u001b[38;5;241m0\u001b[39m, \u001b[38;5;241m1\u001b[39m)\n",
      "Cell \u001b[1;32mIn[105], line 34\u001b[0m, in \u001b[0;36mcalculate_similarity\u001b[1;34m(df)\u001b[0m\n\u001b[0;32m     33\u001b[0m \u001b[38;5;28;01mdef\u001b[39;00m \u001b[38;5;21mcalculate_similarity\u001b[39m(df):\n\u001b[1;32m---> 34\u001b[0m     text_similarity \u001b[38;5;241m=\u001b[39m \u001b[43mcalculate_text_similarity\u001b[49m\u001b[43m(\u001b[49m\u001b[43mdf\u001b[49m\u001b[43m,\u001b[49m\u001b[43m \u001b[49m\u001b[38;5;124;43m'\u001b[39;49m\u001b[38;5;124;43mparsed_name\u001b[39;49m\u001b[38;5;124;43m'\u001b[39;49m\u001b[43m,\u001b[49m\u001b[43m \u001b[49m\u001b[38;5;124;43m'\u001b[39;49m\u001b[38;5;124;43mparsed_address_street_name\u001b[39;49m\u001b[38;5;124;43m'\u001b[39;49m\u001b[43m)\u001b[49m\n\u001b[0;32m     35\u001b[0m     amount_similarity \u001b[38;5;241m=\u001b[39m calculate_date_and_amount_similarity(df, \u001b[38;5;124m'\u001b[39m\u001b[38;5;124mtransaction_category\u001b[39m\u001b[38;5;124m'\u001b[39m, \u001b[38;5;124m'\u001b[39m\u001b[38;5;124mtransaction_category\u001b[39m\u001b[38;5;124m'\u001b[39m)\n\u001b[0;32m     36\u001b[0m     month_similarity \u001b[38;5;241m=\u001b[39m calculate_date_and_amount_similarity(df, \u001b[38;5;124m'\u001b[39m\u001b[38;5;124mtransaction_month\u001b[39m\u001b[38;5;124m'\u001b[39m, \u001b[38;5;124m'\u001b[39m\u001b[38;5;124mtransaction_month\u001b[39m\u001b[38;5;124m'\u001b[39m)\n",
      "Cell \u001b[1;32mIn[105], line 11\u001b[0m, in \u001b[0;36mcalculate_text_similarity\u001b[1;34m(df, col1, col2)\u001b[0m\n\u001b[0;32m      8\u001b[0m \u001b[38;5;28;01mdef\u001b[39;00m \u001b[38;5;21mcalculate_text_similarity\u001b[39m(df, col1, col2):\n\u001b[0;32m      9\u001b[0m     \u001b[38;5;66;03m# Convert columns to strings and fill NaN values with empty strings    \u001b[39;00m\n\u001b[0;32m     10\u001b[0m     vectorizer \u001b[38;5;241m=\u001b[39m TfidfVectorizer()\n\u001b[1;32m---> 11\u001b[0m     tfidf_matrix1 \u001b[38;5;241m=\u001b[39m \u001b[43mvectorizer\u001b[49m\u001b[38;5;241;43m.\u001b[39;49m\u001b[43mfit_transform\u001b[49m\u001b[43m(\u001b[49m\u001b[43mdf\u001b[49m\u001b[43m[\u001b[49m\u001b[43mcol1\u001b[49m\u001b[43m]\u001b[49m\u001b[43m)\u001b[49m\n\u001b[0;32m     12\u001b[0m     tfidf_matrix2 \u001b[38;5;241m=\u001b[39m vectorizer\u001b[38;5;241m.\u001b[39mtransform(df[col2])\n\u001b[0;32m     14\u001b[0m     \u001b[38;5;66;03m# Calculamos la similitud del coseno\u001b[39;00m\n",
      "File \u001b[1;32m~\\AppData\\Local\\Packages\\PythonSoftwareFoundation.Python.3.12_qbz5n2kfra8p0\\LocalCache\\local-packages\\Python312\\site-packages\\sklearn\\feature_extraction\\text.py:2091\u001b[0m, in \u001b[0;36mTfidfVectorizer.fit_transform\u001b[1;34m(self, raw_documents, y)\u001b[0m\n\u001b[0;32m   2084\u001b[0m \u001b[38;5;28mself\u001b[39m\u001b[38;5;241m.\u001b[39m_check_params()\n\u001b[0;32m   2085\u001b[0m \u001b[38;5;28mself\u001b[39m\u001b[38;5;241m.\u001b[39m_tfidf \u001b[38;5;241m=\u001b[39m TfidfTransformer(\n\u001b[0;32m   2086\u001b[0m     norm\u001b[38;5;241m=\u001b[39m\u001b[38;5;28mself\u001b[39m\u001b[38;5;241m.\u001b[39mnorm,\n\u001b[0;32m   2087\u001b[0m     use_idf\u001b[38;5;241m=\u001b[39m\u001b[38;5;28mself\u001b[39m\u001b[38;5;241m.\u001b[39muse_idf,\n\u001b[0;32m   2088\u001b[0m     smooth_idf\u001b[38;5;241m=\u001b[39m\u001b[38;5;28mself\u001b[39m\u001b[38;5;241m.\u001b[39msmooth_idf,\n\u001b[0;32m   2089\u001b[0m     sublinear_tf\u001b[38;5;241m=\u001b[39m\u001b[38;5;28mself\u001b[39m\u001b[38;5;241m.\u001b[39msublinear_tf,\n\u001b[0;32m   2090\u001b[0m )\n\u001b[1;32m-> 2091\u001b[0m X \u001b[38;5;241m=\u001b[39m \u001b[38;5;28;43msuper\u001b[39;49m\u001b[43m(\u001b[49m\u001b[43m)\u001b[49m\u001b[38;5;241;43m.\u001b[39;49m\u001b[43mfit_transform\u001b[49m\u001b[43m(\u001b[49m\u001b[43mraw_documents\u001b[49m\u001b[43m)\u001b[49m\n\u001b[0;32m   2092\u001b[0m \u001b[38;5;28mself\u001b[39m\u001b[38;5;241m.\u001b[39m_tfidf\u001b[38;5;241m.\u001b[39mfit(X)\n\u001b[0;32m   2093\u001b[0m \u001b[38;5;66;03m# X is already a transformed view of raw_documents so\u001b[39;00m\n\u001b[0;32m   2094\u001b[0m \u001b[38;5;66;03m# we set copy to False\u001b[39;00m\n",
      "File \u001b[1;32m~\\AppData\\Local\\Packages\\PythonSoftwareFoundation.Python.3.12_qbz5n2kfra8p0\\LocalCache\\local-packages\\Python312\\site-packages\\sklearn\\base.py:1473\u001b[0m, in \u001b[0;36m_fit_context.<locals>.decorator.<locals>.wrapper\u001b[1;34m(estimator, *args, **kwargs)\u001b[0m\n\u001b[0;32m   1466\u001b[0m     estimator\u001b[38;5;241m.\u001b[39m_validate_params()\n\u001b[0;32m   1468\u001b[0m \u001b[38;5;28;01mwith\u001b[39;00m config_context(\n\u001b[0;32m   1469\u001b[0m     skip_parameter_validation\u001b[38;5;241m=\u001b[39m(\n\u001b[0;32m   1470\u001b[0m         prefer_skip_nested_validation \u001b[38;5;129;01mor\u001b[39;00m global_skip_validation\n\u001b[0;32m   1471\u001b[0m     )\n\u001b[0;32m   1472\u001b[0m ):\n\u001b[1;32m-> 1473\u001b[0m     \u001b[38;5;28;01mreturn\u001b[39;00m \u001b[43mfit_method\u001b[49m\u001b[43m(\u001b[49m\u001b[43mestimator\u001b[49m\u001b[43m,\u001b[49m\u001b[43m \u001b[49m\u001b[38;5;241;43m*\u001b[39;49m\u001b[43margs\u001b[49m\u001b[43m,\u001b[49m\u001b[43m \u001b[49m\u001b[38;5;241;43m*\u001b[39;49m\u001b[38;5;241;43m*\u001b[39;49m\u001b[43mkwargs\u001b[49m\u001b[43m)\u001b[49m\n",
      "File \u001b[1;32m~\\AppData\\Local\\Packages\\PythonSoftwareFoundation.Python.3.12_qbz5n2kfra8p0\\LocalCache\\local-packages\\Python312\\site-packages\\sklearn\\feature_extraction\\text.py:1372\u001b[0m, in \u001b[0;36mCountVectorizer.fit_transform\u001b[1;34m(self, raw_documents, y)\u001b[0m\n\u001b[0;32m   1364\u001b[0m             warnings\u001b[38;5;241m.\u001b[39mwarn(\n\u001b[0;32m   1365\u001b[0m                 \u001b[38;5;124m\"\u001b[39m\u001b[38;5;124mUpper case characters found in\u001b[39m\u001b[38;5;124m\"\u001b[39m\n\u001b[0;32m   1366\u001b[0m                 \u001b[38;5;124m\"\u001b[39m\u001b[38;5;124m vocabulary while \u001b[39m\u001b[38;5;124m'\u001b[39m\u001b[38;5;124mlowercase\u001b[39m\u001b[38;5;124m'\u001b[39m\u001b[38;5;124m\"\u001b[39m\n\u001b[0;32m   1367\u001b[0m                 \u001b[38;5;124m\"\u001b[39m\u001b[38;5;124m is True. These entries will not\u001b[39m\u001b[38;5;124m\"\u001b[39m\n\u001b[0;32m   1368\u001b[0m                 \u001b[38;5;124m\"\u001b[39m\u001b[38;5;124m be matched with any documents\u001b[39m\u001b[38;5;124m\"\u001b[39m\n\u001b[0;32m   1369\u001b[0m             )\n\u001b[0;32m   1370\u001b[0m             \u001b[38;5;28;01mbreak\u001b[39;00m\n\u001b[1;32m-> 1372\u001b[0m vocabulary, X \u001b[38;5;241m=\u001b[39m \u001b[38;5;28;43mself\u001b[39;49m\u001b[38;5;241;43m.\u001b[39;49m\u001b[43m_count_vocab\u001b[49m\u001b[43m(\u001b[49m\u001b[43mraw_documents\u001b[49m\u001b[43m,\u001b[49m\u001b[43m \u001b[49m\u001b[38;5;28;43mself\u001b[39;49m\u001b[38;5;241;43m.\u001b[39;49m\u001b[43mfixed_vocabulary_\u001b[49m\u001b[43m)\u001b[49m\n\u001b[0;32m   1374\u001b[0m \u001b[38;5;28;01mif\u001b[39;00m \u001b[38;5;28mself\u001b[39m\u001b[38;5;241m.\u001b[39mbinary:\n\u001b[0;32m   1375\u001b[0m     X\u001b[38;5;241m.\u001b[39mdata\u001b[38;5;241m.\u001b[39mfill(\u001b[38;5;241m1\u001b[39m)\n",
      "File \u001b[1;32m~\\AppData\\Local\\Packages\\PythonSoftwareFoundation.Python.3.12_qbz5n2kfra8p0\\LocalCache\\local-packages\\Python312\\site-packages\\sklearn\\feature_extraction\\text.py:1278\u001b[0m, in \u001b[0;36mCountVectorizer._count_vocab\u001b[1;34m(self, raw_documents, fixed_vocab)\u001b[0m\n\u001b[0;32m   1276\u001b[0m     vocabulary \u001b[38;5;241m=\u001b[39m \u001b[38;5;28mdict\u001b[39m(vocabulary)\n\u001b[0;32m   1277\u001b[0m     \u001b[38;5;28;01mif\u001b[39;00m \u001b[38;5;129;01mnot\u001b[39;00m vocabulary:\n\u001b[1;32m-> 1278\u001b[0m         \u001b[38;5;28;01mraise\u001b[39;00m \u001b[38;5;167;01mValueError\u001b[39;00m(\n\u001b[0;32m   1279\u001b[0m             \u001b[38;5;124m\"\u001b[39m\u001b[38;5;124mempty vocabulary; perhaps the documents only contain stop words\u001b[39m\u001b[38;5;124m\"\u001b[39m\n\u001b[0;32m   1280\u001b[0m         )\n\u001b[0;32m   1282\u001b[0m \u001b[38;5;28;01mif\u001b[39;00m indptr[\u001b[38;5;241m-\u001b[39m\u001b[38;5;241m1\u001b[39m] \u001b[38;5;241m>\u001b[39m np\u001b[38;5;241m.\u001b[39miinfo(np\u001b[38;5;241m.\u001b[39mint32)\u001b[38;5;241m.\u001b[39mmax:  \u001b[38;5;66;03m# = 2**31 - 1\u001b[39;00m\n\u001b[0;32m   1283\u001b[0m     \u001b[38;5;28;01mif\u001b[39;00m _IS_32BIT:\n",
      "\u001b[1;31mValueError\u001b[0m: empty vocabulary; perhaps the documents only contain stop words"
     ]
    }
   ],
   "source": [
    "from sklearn.feature_extraction.text import TfidfVectorizer\n",
    "from sklearn.metrics.pairwise import cosine_similarity\n",
    "import numpy as np\n",
    "import pandas as pd\n",
    "from sklearn.cluster import DBSCAN\n",
    "from scipy.sparse import csr_matrix\n",
    "\n",
    "\n",
    "def calculate_text_similarity(df, col1, col2):\n",
    "    # Convert columns to strings and fill NaN values with empty strings    \n",
    "    vectorizer = TfidfVectorizer()\n",
    "    tfidf_matrix1 = vectorizer.fit_transform(df[col1])\n",
    "    tfidf_matrix2 = vectorizer.transform(df[col2])\n",
    "    \n",
    "    # Calculamos la similitud del coseno\n",
    "    similarity_matrix = cosine_similarity(tfidf_matrix1, tfidf_matrix2)\n",
    "    return csr_matrix(similarity_matrix)\n",
    "\n",
    "def calculate_date_and_amount_similarity(df, col1, col2):\n",
    "    # Convert columns to numerical values if they are not already\n",
    "    df[col1] = pd.to_numeric(df[col1], errors='coerce')\n",
    "    df[col2] = pd.to_numeric(df[col2], errors='coerce')\n",
    "    \n",
    "    # Fill NaN values with a large number to indicate dissimilarity\n",
    "    df[col1].fillna(9999, inplace=True)\n",
    "    df[col2].fillna(9999, inplace=True)\n",
    "    \n",
    "    # Calculamos la diferencia absoluta entre los valores de las columnas\n",
    "    diff = np.abs(df[col1].values.reshape(-1, 1) - df[col2].values.reshape(1, -1))\n",
    "    # Normalizamos la diferencia para obtener similitud [0, 1]\n",
    "    similarity = 1 / (1 + diff)  # Cuanto menor la diferencia, mayor la similitud\n",
    "    return csr_matrix(similarity)\n",
    "\n",
    "def calculate_similarity(df):\n",
    "    text_similarity = calculate_text_similarity(df, 'parsed_name', 'parsed_address_street_name')\n",
    "    amount_similarity = calculate_date_and_amount_similarity(df, 'transaction_category', 'transaction_category')\n",
    "    month_similarity = calculate_date_and_amount_similarity(df, 'transaction_month', 'transaction_month')\n",
    "    day_similarity = calculate_date_and_amount_similarity(df, 'transaction_day_of_week', 'transaction_day_of_week')\n",
    "    \n",
    "    # Combine all similarities (this is just an example, adjust as needed)\n",
    "    combined_similarity = (0.4 * text_similarity + 0.2 * amount_similarity + 0.2 * month_similarity + 0.2 * day_similarity)\n",
    "    return csr_matrix(combined_similarity)\n",
    "\n",
    "results = []\n",
    "# Main code\n",
    "for block_name, block_data in blocks:\n",
    "    print(f\"Processing block: {block_name}\")\n",
    "    \n",
    "    if len(block_data) < 2:\n",
    "        block_data['external_id'] = range(len(results), len(results) + len(block_data))\n",
    "        results.append(block_data)\n",
    "        continue\n",
    "\n",
    "    # Similaridad para 'parsed_name' y 'parsed_address_street_name'\n",
    "    name_and_address_similarity = calculate_similarity(block_data)\n",
    "\n",
    "    # Asegúrate de que los valores de la matriz de similitud estén en el rango [0, 1]\n",
    "    name_and_address_similarity = np.clip(name_and_address_similarity, 0, 1)\n",
    "\n",
    "    # Convertimos la matriz de similitud en distancias\n",
    "    distance_matrix = 1 - name_and_address_similarity\n",
    "\n",
    "    # Debug: Check shapes\n",
    "    print(f\"distance_matrix shape: {distance_matrix.shape}\")\n",
    "    print(f\"block_data shape: {block_data.shape}\")\n",
    "\n",
    "    # Aplicamos DBSCAN\n",
    "    db = DBSCAN(eps=0.3, min_samples=2, metric='precomputed')\n",
    "    clusters = db.fit_predict(distance_matrix)\n",
    "\n",
    "    # Debug: Check clusters length\n",
    "    print(f\"clusters length: {len(clusters)}\")\n",
    "    print(f\"block_data length: {len(block_data)}\")\n",
    "\n",
    "    # Ensure the lengths match before assignment\n",
    "    if len(clusters) == len(block_data):\n",
    "        # Asignamos clusters como 'external_id'\n",
    "        block_data['external_id'] = clusters + len(results)  # Evita conflictos entre bloques\n",
    "        results.append(block_data)\n",
    "    else:\n",
    "        print(\"Error: Length of clusters does not match length of block_data\")\n",
    "\n",
    "\n",
    "\n",
    "# Similaridad para 'parsed_name' y 'parsed_address_street_name'\n",
    "name_and_address_similarity = calculate_similarity(block_data)\n",
    "\n",
    "# Asegúrate de que los valores de la matriz de similitud estén en el rango [0, 1]\n",
    "name_and_address_similarity = np.clip(name_and_address_similarity, 0, 1)\n",
    "\n",
    "# Convertimos la matriz de similitud en distancias\n",
    "distance_matrix = 1 - name_and_address_similarity\n",
    "\n",
    "\n",
    "final_df = pd.concat(results, ignore_index=True)\n",
    "cluster_sizes = final_df['external_id'].value_counts()\n",
    "valid_clusters = cluster_sizes[cluster_sizes > 1].index\n",
    "\n",
    "# Filtramos las filas que pertenecen a esos clusters\n",
    "filtered_df = final_df[final_df['external_id'].isin(valid_clusters)]\n",
    "filtered_df = filtered_df[['external_id', 'transaction_reference_id']]"
   ]
  },
  {
   "cell_type": "code",
   "execution_count": null,
   "metadata": {},
   "outputs": [
    {
     "data": {
      "text/plain": [
       "<Figure size 1200x600 with 0 Axes>"
      ]
     },
     "execution_count": 76,
     "metadata": {},
     "output_type": "execute_result"
    },
    {
     "data": {
      "text/plain": [
       "<Axes: xlabel='external_id'>"
      ]
     },
     "execution_count": 76,
     "metadata": {},
     "output_type": "execute_result"
    },
    {
     "data": {
      "text/plain": [
       "Text(0.5, 1.0, 'Distribución de Clusters')"
      ]
     },
     "execution_count": 76,
     "metadata": {},
     "output_type": "execute_result"
    },
    {
     "data": {
      "text/plain": [
       "Text(0.5, 0, 'Cluster ID')"
      ]
     },
     "execution_count": 76,
     "metadata": {},
     "output_type": "execute_result"
    },
    {
     "data": {
      "text/plain": [
       "Text(0, 0.5, 'Tamaño del Cluster')"
      ]
     },
     "execution_count": 76,
     "metadata": {},
     "output_type": "execute_result"
    },
    {
     "data": {
      "image/png": "[encoded data removed]",
      "text/plain": [
       "<Figure size 1200x600 with 1 Axes>"
      ]
     },
     "metadata": {},
     "output_type": "display_data"
    }
   ],
   "source": [
    "# Visualizar el tamaño de cada cluster\n",
    "cluster_sizes = filtered_df['external_id'].value_counts()\n",
    "\n",
    "plt.figure(figsize=(12, 6))\n",
    "sns.barplot(x=cluster_sizes.index, y=cluster_sizes.values)\n",
    "plt.title('Distribución de Clusters')\n",
    "plt.xlabel('Cluster ID')\n",
    "plt.ylabel('Tamaño del Cluster')\n",
    "plt.show()\n"
   ]
  },
  {
   "cell_type": "code",
   "execution_count": null,
   "metadata": {},
   "outputs": [],
   "source": []
  },
  {
   "cell_type": "markdown",
   "metadata": {},
   "source": [
    "### 1.1 Pre-processing of the variable parsed_name"
   ]
  },
  {
   "cell_type": "markdown",
   "metadata": {},
   "source": [
    "### 1.2 Phone pre-processing"
   ]
  }
 ],
 "metadata": {
  "kernelspec": {
   "display_name": "Python 3",
   "language": "python",
   "name": "python3"
  },
  "language_info": {
   "codemirror_mode": {
    "name": "ipython",
    "version": 3
   },
   "file_extension": ".py",
   "mimetype": "text/x-python",
   "name": "python",
   "nbconvert_exporter": "python",
   "pygments_lexer": "ipython3",
   "version": "3.12.7"
  }
 },
 "nbformat": 4,
 "nbformat_minor": 2
}
